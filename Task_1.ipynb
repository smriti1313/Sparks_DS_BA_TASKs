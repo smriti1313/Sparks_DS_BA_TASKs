{
 "cells": [
  {
   "cell_type": "markdown",
   "metadata": {},
   "source": [
    "# Presented by: SMRITI SINGH\n",
    "----\n",
    "# Data science and business analytics intern @ The Sparks Foundation \\#GRIPJAN21\n",
    "----\n",
    "## Task 1: Prediction using Supervised ML\n",
    "----\n",
    "### To-Do:\n",
    "   - Predict the percentage of an student based on the no. of study hours.\n",
    "   - What will be predicted score if a student studies for 9.25 hrs/ day?\n",
    "----   \n",
    "### Language used:\n",
    "   - Python\n",
    "----\n",
    "### Dataset:\n",
    "   - http://bit.ly/w-data\n",
    "\n",
    "----"
   ]
  },
  {
   "cell_type": "markdown",
   "metadata": {},
   "source": [
    "We import libraries required for this task.\n",
    " - Pandas: To import and analyze data.\n",
    " - Numpy: for numerical python. To perform multi-dimensional operation.\n",
    " - Matplotlib: To perform graphical plot of the data\n",
    " - Sklearn: provides many unsupervised and supervised learning algorithms"
   ]
  },
  {
   "cell_type": "code",
   "execution_count": null,
   "metadata": {},
   "outputs": [],
   "source": [
    "import numpy as np\n",
    "import pandas as pd\n",
    "import matplotlib.pyplot as plt\n",
    "%matplotlib inline"
   ]
  },
  {
   "cell_type": "markdown",
   "metadata": {},
   "source": [
    "----\n",
    "Now to load the dataset provided, we use `pandas` library and then print it to check whether the desired output is loaded or not."
   ]
  },
  {
   "cell_type": "code",
   "execution_count": null,
   "metadata": {
    "scrolled": false
   },
   "outputs": [],
   "source": [
    "url=\"http://bit.ly/w-data\"\n",
    "df = pd.read_csv(url)\n",
    "print('The given dataset is:')\n",
    "print(df)\n",
    "# If dataset is huge then check whether you have null values or not by using 'dataframe_name.isnull().sum()'."
   ]
  },
  {
   "cell_type": "markdown",
   "metadata": {},
   "source": [
    "----\n",
    "To check for number of rows and columns.\n",
    "Here, 25-> number of rows and 2-> number of columns"
   ]
  },
  {
   "cell_type": "code",
   "execution_count": null,
   "metadata": {},
   "outputs": [],
   "source": [
    "df.shape"
   ]
  },
  {
   "cell_type": "markdown",
   "metadata": {},
   "source": [
    "-----\n",
    "## Data visualization    \n",
    "\n",
    "Here, we would be using `matplotlib.pyplot` library to plot graph."
   ]
  },
  {
   "cell_type": "code",
   "execution_count": null,
   "metadata": {},
   "outputs": [],
   "source": [
    "# Plotting score distribution to see the relation between hours and scores columns.\n",
    "df.plot(x='Hours', y='Scores', style='*')\n",
    "plt.title('Hours v/s percentage')\n",
    "plt.xlabel('Hours studied')\n",
    "plt.ylabel('% score')\n",
    "plt.show()"
   ]
  },
  {
   "cell_type": "markdown",
   "metadata": {},
   "source": [
    "----\n",
    "## Splitting data in 2 parts:\n",
    " - For training model\n",
    " - For testing model\n",
    " \n",
    " For this, we will use `Scikit's learn's` builtin method of `train_test_split()`."
   ]
  },
  {
   "cell_type": "code",
   "execution_count": null,
   "metadata": {},
   "outputs": [],
   "source": [
    "x=df.iloc[:, :-1].values\n",
    "y=df.iloc[:, 1].values"
   ]
  },
  {
   "cell_type": "code",
   "execution_count": null,
   "metadata": {},
   "outputs": [],
   "source": [
    "from sklearn.model_selection import train_test_split\n",
    "x_train,x_test,y_train,y_test=train_test_split(x,y,test_size=0.2,random_state=0)"
   ]
  },
  {
   "cell_type": "markdown",
   "metadata": {},
   "source": [
    "----\n",
    "## Train the algorithm"
   ]
  },
  {
   "cell_type": "code",
   "execution_count": null,
   "metadata": {},
   "outputs": [],
   "source": [
    "from sklearn.linear_model import LinearRegression\n",
    "lr = LinearRegression()\n",
    "lr.fit(x_train, y_train)\n",
    "print('Training done!!!')"
   ]
  },
  {
   "cell_type": "markdown",
   "metadata": {},
   "source": [
    "-----\n",
    "Implementing the plotting test data using previously trained test data: "
   ]
  },
  {
   "cell_type": "code",
   "execution_count": null,
   "metadata": {},
   "outputs": [],
   "source": [
    "# plotting the regression line\n",
    "line = lr.coef_*x+lr.intercept_\n",
    "\n",
    "# plotting for the test data\n",
    "plt.scatter(x,y,color='orange')\n",
    "plt.plot(x, line,color='purple')\n",
    "plt.show()"
   ]
  },
  {
   "cell_type": "markdown",
   "metadata": {},
   "source": [
    "----\n",
    "## Making predictions\n",
    "\n",
    "Predicting the scores for the model is a very crucial step for our model."
   ]
  },
  {
   "cell_type": "code",
   "execution_count": null,
   "metadata": {},
   "outputs": [],
   "source": [
    "print(x_test)"
   ]
  },
  {
   "cell_type": "code",
   "execution_count": null,
   "metadata": {},
   "outputs": [],
   "source": [
    "y_predic = lr.predict(x_test)"
   ]
  },
  {
   "cell_type": "code",
   "execution_count": null,
   "metadata": {},
   "outputs": [],
   "source": [
    "# comparing actual v/s predicted data\n",
    "data = pd.DataFrame({'Actual': y_test, 'Predicted': y_predic})\n",
    "data"
   ]
  },
  {
   "cell_type": "code",
   "execution_count": null,
   "metadata": {},
   "outputs": [],
   "source": [
    "# You can even test this with your own data. In our case, it has asked for 9.25 hours.\n",
    "hours=float(input('Enter number of study hours: '))\n",
    "\n",
    "own_predict = lr.predict([[hours]])\n",
    "print(f'The predicted score for {hours} hours is {own_predict}.')"
   ]
  },
  {
   "cell_type": "markdown",
   "metadata": {},
   "source": [
    "----\n",
    "## Evaluating the model\n",
    "\n",
    "Final step is to evaluate the performance of the algorithm which is a crucial step as to know how well different algorithms perform on a particular dataset. For this, `sklearn` library is used."
   ]
  },
  {
   "cell_type": "code",
   "execution_count": null,
   "metadata": {},
   "outputs": [],
   "source": [
    "from sklearn import metrics"
   ]
  },
  {
   "cell_type": "code",
   "execution_count": null,
   "metadata": {},
   "outputs": [],
   "source": [
    "print('Mean absolute error: ',mean_absolute_error(y_test,y_predic))"
   ]
  },
  {
   "cell_type": "markdown",
   "metadata": {},
   "source": [
    "-----\n",
    "### Note: This model works only gor the dataset provided. The results may change if the data is changed and thus we need to optimize the model again.\n",
    "\n",
    "### Thank you!"
   ]
  },
  {
   "cell_type": "code",
   "execution_count": null,
   "metadata": {},
   "outputs": [],
   "source": []
  }
 ],
 "metadata": {
  "kernelspec": {
   "display_name": "Python 3",
   "language": "python",
   "name": "python3"
  },
  "language_info": {
   "codemirror_mode": {
    "name": "ipython",
    "version": 3
   },
   "file_extension": ".py",
   "mimetype": "text/x-python",
   "name": "python",
   "nbconvert_exporter": "python",
   "pygments_lexer": "ipython3",
   "version": "3.8.3"
  }
 },
 "nbformat": 4,
 "nbformat_minor": 4
}
